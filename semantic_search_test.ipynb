{
 "cells": [
  {
   "cell_type": "markdown",
   "id": "441368fc-fa31-40dc-a6b6-d6a568a8f524",
   "metadata": {},
   "source": [
    "# Semantic search demo"
   ]
  },
  {
   "cell_type": "code",
   "execution_count": null,
   "id": "ce7b7ed4-51bb-4fb0-9fa8-4423b451324b",
   "metadata": {
    "tags": []
   },
   "outputs": [],
   "source": [
    "# import packages and functions\n",
    "from utils.data_setup import text_to_processed_file, load_json_text_objects, text_object_to_dict\n",
    "from utils.models import nlp, use_model, cross_model, summarizer\n",
    "from utils.semantic_search import bi_semantic_search, bi_cross_semantic_search"
   ]
  },
  {
   "cell_type": "markdown",
   "id": "3bedf731-0c24-429f-a089-004dc80f756b",
   "metadata": {},
   "source": [
    "## Import and process data\n",
    "Assuming data is in raw text file with one row per free text entry.\n",
    "\n",
    "We first read in the data and process it into custom Text and Sentence objects.\n",
    "\n",
    "This processing involves generating vector embeddings for each sentence, so we save these processed objects as a serialised JSON file that can be easily re-loaded to save time.\n"
   ]
  },
  {
   "cell_type": "code",
   "execution_count": null,
   "id": "508b48be-414f-45f4-a252-453554e00ac1",
   "metadata": {
    "tags": []
   },
   "outputs": [],
   "source": [
    "import os\n",
    "if not os.path.isfile('text1.json'):\n",
    "    # if text1.json doesn't exist yet, we make it\n",
    "    print(f'Creating example_data.json')\n",
    "    source_texts = text_to_processed_file('text1.txt','text1.json', nlp, use_model, replace_list=None, remove_list=None)\n",
    "    \n",
    "else: \n",
    "    # if it exists, we just load it in\n",
    "    print(f'Loading text1.json')\n",
    "    source_texts = load_json_text_objects('text1.json') # load processed text data"
   ]
  },
  {
   "cell_type": "code",
   "execution_count": null,
   "id": "3e384a35-5919-4adc-b8d8-df4ac8667639",
   "metadata": {
    "tags": []
   },
   "outputs": [],
   "source": [
    "source_texts = text_object_to_dict(source_texts) # index as dictionary\n",
    "source_texts[5] # Example - Text object stored at key 5"
   ]
  },
  {
   "cell_type": "markdown",
   "id": "21ec8117-cab1-416c-917f-9e766cb63687",
   "metadata": {},
   "source": [
    "### Example of Text and Sentence classes objects\n",
    "This is how our data is stored for easy processing."
   ]
  },
  {
   "cell_type": "code",
   "execution_count": null,
   "id": "4e316350-8f19-4bd6-89dc-7b7f7bae36f2",
   "metadata": {
    "tags": []
   },
   "outputs": [],
   "source": [
    "example_text = source_texts[0]\n",
    "example_sentence = example_text.sentences[1]\n",
    "print(f'- Text object -')\n",
    "print(f'example_text.content: {example_text.content}')\n",
    "print(f'example_text.id: {example_text.id}')\n",
    "print(f'example_text.sentences: {example_text.sentences}')\n",
    "print(f'\\n- Sentence object -')\n",
    "print(f'example_sentence.index: {example_sentence.index}')\n",
    "print(f'example_sentence.sentence: {example_sentence.sentence}')\n",
    "print(f'example_sentence.cleaned_sentence: {example_sentence.cleaned_sentence}')\n",
    "print(f'example_sentence.vector_embedding[:5]: {example_sentence.vector_embedding[:5]}')\n",
    "print(f'example_sentence.text_id: {example_sentence.text_id}')"
   ]
  },
  {
   "cell_type": "markdown",
   "id": "49bd5148-c7d4-431e-882f-738c0a1aa635",
   "metadata": {},
   "source": [
    "## Semantic search"
   ]
  },
  {
   "cell_type": "code",
   "execution_count": null,
   "id": "0fa81f2c-bb1c-4b73-be9b-f33fc8cf8498",
   "metadata": {
    "tags": []
   },
   "outputs": [],
   "source": [
    "top_sentences, loc, output_text = bi_semantic_search('information about animals', source_texts, \n",
    "                                                    num_results=5, \n",
    "                                                    embed_model=use_model, \n",
    "                                                    redact=True, paragraph=True, p_n = 4, verbose=True)"
   ]
  },
  {
   "cell_type": "code",
   "execution_count": null,
   "id": "5357f190-4c42-4789-8523-f8e61785ccc9",
   "metadata": {
    "tags": []
   },
   "outputs": [],
   "source": [
    "top_sentences, loc, all_output_text, diagnostics = bi_cross_semantic_search('information about animals', source_texts, \n",
    "                                                                      num_results=5, \n",
    "                                                                      nlp_model = nlp,embed_model = use_model, cross_model = cross_model,\n",
    "                                                                      redact=True, paragraph=True, p_n = 4, verbose=True)"
   ]
  },
  {
   "cell_type": "markdown",
   "id": "5a73afa5-990d-440a-90ac-3533835f6af8",
   "metadata": {
    "tags": []
   },
   "source": [
    "## Summariser"
   ]
  },
  {
   "cell_type": "code",
   "execution_count": null,
   "id": "2edd4c82-59f2-4806-946c-96ed84fe798b",
   "metadata": {
    "tags": []
   },
   "outputs": [],
   "source": [
    "long_text = '''In the early 20th century, technological advancements began reshaping the global landscape. \n",
    "The introduction of automobiles, initially seen as a luxury, started becoming more accessible to the masses. \n",
    "This was largely due to the innovative assembly line techniques developed by Henry Ford. \n",
    "Meanwhile, aviation took its first tentative steps, with pioneers like the Wright brothers changing our perception of travel. \n",
    "Telecommunication breakthroughs, especially the invention of the telephone by Alexander Graham Bell, revolutionized communication, \n",
    "bridging vast distances instantly. These innovations, among others, set the stage for the rapid modernization and globalization of the world, \n",
    "influencing industries, economies, and cultures.'''"
   ]
  },
  {
   "cell_type": "code",
   "execution_count": null,
   "id": "2694f83f-c47e-4aa5-bed7-4ef641bd7629",
   "metadata": {
    "tags": []
   },
   "outputs": [],
   "source": [
    "summarizer(long_text)[0]['summary_text']"
   ]
  }
 ],
 "metadata": {
  "kernelspec": {
   "display_name": "venv_semantic-demo",
   "language": "python",
   "name": "venv_semantic-demo"
  },
  "language_info": {
   "codemirror_mode": {
    "name": "ipython",
    "version": 3
   },
   "file_extension": ".py",
   "mimetype": "text/x-python",
   "name": "python",
   "nbconvert_exporter": "python",
   "pygments_lexer": "ipython3",
   "version": "3.11.4"
  }
 },
 "nbformat": 4,
 "nbformat_minor": 5
}
